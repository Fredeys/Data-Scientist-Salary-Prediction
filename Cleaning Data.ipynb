{
 "cells": [
  {
   "cell_type": "code",
   "execution_count": 912,
   "id": "83e045d9",
   "metadata": {},
   "outputs": [],
   "source": [
    "import pandas as pd\n",
    "df = pd.read_csv('Salary Dataset.csv')\n",
    "pd.set_option('display.max_rows', 1100)\n",
    "#df.head()"
   ]
  },
  {
   "cell_type": "code",
   "execution_count": 913,
   "id": "425119c9",
   "metadata": {},
   "outputs": [],
   "source": [
    "df['hourly'] = df['Salary Estimate'].apply(lambda x: 1 if 'per hour' or '/hr' in x.lower() else 0)\n",
    "df['employer_provided'] = df['Salary Estimate'].apply(lambda x: 1 if 'employer provided salary' in x.lower() else 0)\n",
    "df['monthly'] = df['Salary Estimate'].apply(lambda x: 1 if '/mo' in x.lower() else 0)"
   ]
  },
  {
   "cell_type": "code",
   "execution_count": 914,
   "id": "539e53d6",
   "metadata": {},
   "outputs": [],
   "source": [
    "df = df[df['Salary Estimate'] != '-1']\n",
    "salary = df['Salary Estimate'].apply(lambda x: x.split('(')[0])\n",
    "minus_kd = salary.apply(lambda x: x.replace('K', '').replace('$', ''))"
   ]
  },
  {
   "cell_type": "code",
   "execution_count": 915,
   "id": "2c446046",
   "metadata": {},
   "outputs": [],
   "source": [
    "# Deletes 'per hour', 'employer provided salary' and '/yr'\n",
    "clean_salary = minus_kd.apply(lambda x: x.lower().replace('per hour', '').replace('employer provided salary', '').replace('Employer est.', '').replace('/mo', '').replace('/yr', '').strip())"
   ]
  },
  {
   "cell_type": "code",
   "execution_count": 916,
   "id": "8c4f61c4",
   "metadata": {},
   "outputs": [],
   "source": [
    "# df.employer_provided.value_counts()\n",
    "df =df.drop('employer_provided', axis=1)"
   ]
  },
  {
   "cell_type": "code",
   "execution_count": 917,
   "id": "00fc45cc",
   "metadata": {},
   "outputs": [],
   "source": [
    "# df.hourly.value_counts()\n",
    "df = df.drop('hourly', axis=1)"
   ]
  },
  {
   "cell_type": "code",
   "execution_count": 918,
   "id": "f252f73e",
   "metadata": {},
   "outputs": [],
   "source": [
    "df['min_salary'] = clean_salary.apply(lambda x: x.split('–')[0].strip() if pd.notna(x) else '-1')\n",
    "df['max_salary'] = clean_salary.apply(lambda x: x.split('–')[1].strip() if '–' in x and len(x.split('–')) > 1 else x.split('–')[0].strip())\n",
    "df['min_salary'] = pd.to_numeric(df['min_salary'], errors='coerce').fillna(-1).astype(int)\n",
    "df['max_salary'] = pd.to_numeric(df['max_salary'], errors='coerce').fillna(-1).astype(int)"
   ]
  },
  {
   "cell_type": "code",
   "execution_count": 919,
   "id": "e15a963d",
   "metadata": {},
   "outputs": [],
   "source": [
    "# calculates the average salary\n",
    "df['avg_salary'] = (df.min_salary + df.max_salary)/2"
   ]
  },
  {
   "cell_type": "code",
   "execution_count": 920,
   "id": "882273db",
   "metadata": {},
   "outputs": [],
   "source": [
    "df['min_salary'] = df.apply(lambda x: x.min_salary*12 if x.monthly == 1 else x.min_salary, axis = 1)\n",
    "df['max_salary'] = df.apply(lambda x: x.max_salary*12 if x.monthly == 1 else x.max_salary, axis = 1)\n",
    "#df[df.monthly == 1][['min_salary', 'max_salary']]"
   ]
  },
  {
   "cell_type": "code",
   "execution_count": 921,
   "id": "5b390ea0",
   "metadata": {},
   "outputs": [],
   "source": [
    "df =df.drop('monthly', axis=1)"
   ]
  },
  {
   "cell_type": "code",
   "execution_count": 922,
   "id": "55ff589d",
   "metadata": {},
   "outputs": [],
   "source": [
    "# Erases the '\\n' in the job description.\n",
    "df['Job Description'] = df['Job Description'].astype(str).apply(lambda x: x.replace('\\n', ' ').replace('nan', '-1'))\n",
    "# Job description length\n",
    "df['desc_len'] = df['Job Description'].apply(lambda x: len(x) if len(x) != 2 else '-1')"
   ]
  },
  {
   "cell_type": "code",
   "execution_count": 923,
   "id": "c069df27",
   "metadata": {},
   "outputs": [],
   "source": [
    "def split_location(location):\n",
    "    if 'remote' in location.lower():\n",
    "        return '-1', '-1', 1, '-1' \n",
    "    else:\n",
    "        parts = location.split(',') \n",
    "        if len(parts) == 2:\n",
    "            city, state = parts\n",
    "            country = '-1' \n",
    "        elif len(parts) == 1:  \n",
    "            city = state = '-1' \n",
    "            country = parts[0]  \n",
    "        else:  \n",
    "            city = state = country = '-1'\n",
    "        return city.strip(), state.strip(), 0, country.strip()  # Gibt die Ergebnisse ohne Leerzeichen zurück und 'Remote' zu 0, wenn nicht remote\n",
    "\n",
    "new_columns = df['Location'].apply(lambda x: pd.Series(split_location(x), index=['City', 'State', 'Remote', 'Country']))\n",
    "\n",
    "df = pd.concat([df, new_columns], axis=1)"
   ]
  },
  {
   "cell_type": "code",
   "execution_count": 924,
   "id": "d6d9782f",
   "metadata": {},
   "outputs": [],
   "source": [
    "df = df[(df['Country'] == '-1') | (df['Country'] == 'United States')]\n",
    "# df['Country'].value_counts()"
   ]
  },
  {
   "cell_type": "code",
   "execution_count": 925,
   "id": "9941c913",
   "metadata": {},
   "outputs": [],
   "source": [
    "# df.Remote.value_counts()"
   ]
  },
  {
   "cell_type": "code",
   "execution_count": 926,
   "id": "bb0911ae",
   "metadata": {},
   "outputs": [],
   "source": [
    "# df.City.value_counts()"
   ]
  },
  {
   "cell_type": "code",
   "execution_count": 927,
   "id": "b9a0071f",
   "metadata": {},
   "outputs": [],
   "source": [
    "# df.State.value_counts()"
   ]
  },
  {
   "cell_type": "code",
   "execution_count": 928,
   "id": "a4acede1",
   "metadata": {},
   "outputs": [],
   "source": [
    "# df.Country.value_counts()"
   ]
  },
  {
   "cell_type": "code",
   "execution_count": 929,
   "id": "b5c8504d",
   "metadata": {},
   "outputs": [],
   "source": [
    "def split_revenue(revenue):\n",
    "    if 'unknown' in revenue.lower() or 'non-applicable' in revenue.lower() or not any(char.isdigit() for char in revenue):\n",
    "        return -1, -1, -1 \n",
    "    \n",
    "    revenue = revenue.lower().replace('$', '').replace('(usd)', '').strip()\n",
    "\n",
    "    parts = revenue.split('to')\n",
    "    if len(parts) == 1:\n",
    "        min_part = max_part = parts[0]\n",
    "        if 'billion' in min_part:\n",
    "            min_revenue = max_revenue = convert_to_int(min_part.replace('billion', '').replace('+', '').strip()) * 1000\n",
    "        else:\n",
    "            min_revenue = max_revenue = convert_to_int(min_part.replace('million', '').strip())\n",
    "        \n",
    "    elif len(parts) == 2:\n",
    "        min_part, max_part = parts\n",
    "\n",
    "        if 'billion' in max_part:\n",
    "            min_revenue = convert_to_int(min_part.replace('million', '').strip()) if 'million' in min_part else convert_to_int(min_part.strip()) * 1000\n",
    "            max_revenue = convert_to_int(max_part.replace('billion', '').strip()) * 1000\n",
    "        \n",
    "        else:  \n",
    "            min_revenue = convert_to_int(min_part.replace('million', '').strip())\n",
    "            max_revenue = convert_to_int(max_part.replace('million', '').strip())\n",
    "            \n",
    "    else:\n",
    "        min_revenue = max_revenue = avg_revenue = -1\n",
    "    \n",
    "    avg_revenue = (min_revenue + max_revenue) // 2  \n",
    "    \n",
    "    return min_revenue, max_revenue, avg_revenue\n",
    "\n",
    "def convert_to_int(value):\n",
    "    try:\n",
    "        return int(value)\n",
    "    except ValueError:\n",
    "        return -1 \n",
    "\n",
    "df[['Min Revenue', 'Max Revenue', 'Avg Revenue']] = df['Revenue'].apply(lambda x: pd.Series(split_revenue(x)))"
   ]
  },
  {
   "cell_type": "code",
   "execution_count": 930,
   "id": "d58b2ef2",
   "metadata": {},
   "outputs": [],
   "source": [
    "revenue_df = df[df['Revenue'] != '-1']\n"
   ]
  },
  {
   "cell_type": "code",
   "execution_count": 931,
   "id": "cc8f4458",
   "metadata": {},
   "outputs": [],
   "source": [
    "df['Founded'] = pd.to_numeric(df['Founded'], errors='coerce')\n",
    "\n",
    "df['Founded'] = df['Founded'].fillna(-1).astype(int)\n",
    "\n",
    "def calculate_age(founded):\n",
    "    if founded > 0 and founded <= 2024:\n",
    "        return 2024 - founded \n",
    "    else:\n",
    "        return -1\n",
    "\n",
    "df['Age'] = df['Founded'].apply(calculate_age)"
   ]
  },
  {
   "cell_type": "code",
   "execution_count": 932,
   "id": "58df22c1",
   "metadata": {},
   "outputs": [],
   "source": [
    "df['python_yn'] = df['Job Description'].apply(lambda x: 1 if 'python' in x.lower() else 0)\n",
    "# df.python_yn.value_counts()"
   ]
  },
  {
   "cell_type": "code",
   "execution_count": 933,
   "id": "ba462ceb",
   "metadata": {},
   "outputs": [],
   "source": [
    "df['R_yn'] = df['Job Description'].apply(lambda x: 1 if 'r studio' in x.lower() or 'r-studio' in x.lower() else 0)\n",
    "# df.R_yn.value_counts()"
   ]
  },
  {
   "cell_type": "code",
   "execution_count": 934,
   "id": "f1784fa5",
   "metadata": {},
   "outputs": [],
   "source": [
    "df['spark'] = df['Job Description'].apply(lambda x: 1 if 'spark' in x.lower() else 0)\n",
    "# df.spark.value_counts()"
   ]
  },
  {
   "cell_type": "code",
   "execution_count": 935,
   "id": "1995f6e2",
   "metadata": {},
   "outputs": [],
   "source": [
    "df['aws'] = df['Job Description'].apply(lambda x: 1 if 'aws' in x.lower() else 0)\n",
    "# df.spark.value_counts()"
   ]
  },
  {
   "cell_type": "code",
   "execution_count": 936,
   "id": "2f747bcf",
   "metadata": {},
   "outputs": [],
   "source": [
    "df['excel'] = df['Job Description'].apply(lambda x: 1 if 'excel' in x.lower() else 0)\n",
    "# df.excel.value_counts()"
   ]
  },
  {
   "cell_type": "code",
   "execution_count": 937,
   "id": "e0ba9dd7",
   "metadata": {},
   "outputs": [],
   "source": [
    "# df.columns"
   ]
  },
  {
   "cell_type": "code",
   "execution_count": 938,
   "id": "c4d0b63b",
   "metadata": {},
   "outputs": [],
   "source": [
    "df = df.drop('Unnamed: 0', axis=1)"
   ]
  },
  {
   "cell_type": "code",
   "execution_count": 939,
   "id": "0394d502",
   "metadata": {},
   "outputs": [],
   "source": [
    "df.to_csv('salary_data_cleaned')"
   ]
  }
 ],
 "metadata": {
  "kernelspec": {
   "display_name": "Python 3 (ipykernel)",
   "language": "python",
   "name": "python3"
  },
  "language_info": {
   "codemirror_mode": {
    "name": "ipython",
    "version": 3
   },
   "file_extension": ".py",
   "mimetype": "text/x-python",
   "name": "python",
   "nbconvert_exporter": "python",
   "pygments_lexer": "ipython3",
   "version": "3.11.5"
  }
 },
 "nbformat": 4,
 "nbformat_minor": 5
}
